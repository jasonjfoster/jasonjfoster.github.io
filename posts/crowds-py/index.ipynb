{
  "cells": [
    {
      "cell_type": "raw",
      "metadata": {},
      "source": [
        "---\n",
        "title: \"Crowds\"\n",
        "author: \"[Jason Foster](mailto:jason.j.foster@gmail.com)\"\n",
        "date: last-modified\n",
        "categories:\n",
        "  - analysis\n",
        "  - finance\n",
        "  - python\n",
        "draft: true\n",
        "editor: \n",
        "  mode: source\n",
        "---"
      ],
      "id": "e8346656"
    },
    {
      "cell_type": "code",
      "metadata": {},
      "source": [
        "factors_r = [\"SP500\"] # \"SP500\" does not contain dividends\n",
        "factors_d = [\"DTB3\"]"
      ],
      "id": "9a232351",
      "execution_count": null,
      "outputs": []
    },
    {
      "cell_type": "code",
      "metadata": {},
      "source": [
        "exec(open(\"../helper-levels.py\").read())"
      ],
      "id": "db0a6101",
      "execution_count": null,
      "outputs": []
    },
    {
      "cell_type": "code",
      "metadata": {},
      "source": [
        "width = 20 * 3"
      ],
      "id": "6f35c753",
      "execution_count": null,
      "outputs": []
    },
    {
      "cell_type": "markdown",
      "metadata": {},
      "source": [
        "# Parse web\n"
      ],
      "id": "6bca0af3"
    },
    {
      "cell_type": "code",
      "metadata": {},
      "source": [
        "import yfscreen as yfs"
      ],
      "id": "4eb0cde4",
      "execution_count": null,
      "outputs": []
    },
    {
      "cell_type": "code",
      "metadata": {},
      "source": [
        "filters = [\"eq\", [\"categoryname\", \"Tactical Allocation\"]]\n",
        "query = yfs.create_query(filters)\n",
        "payload = yfs.create_payload(\"mutualfund\", query, 250)\n",
        "data = yfs.get_data(payload)"
      ],
      "id": "29decc2e",
      "execution_count": null,
      "outputs": []
    },
    {
      "cell_type": "code",
      "metadata": {},
      "source": [
        "sorted_df = data.sort_values(by = [\"netAssets.raw\", \"firstTradeDateMilliseconds\"])\n",
        "tickers = sorted_df.loc[~data[\"netAssets.raw\"].duplicated(), \"symbol\"].tolist()"
      ],
      "id": "f98a36e3",
      "execution_count": null,
      "outputs": []
    },
    {
      "cell_type": "code",
      "metadata": {},
      "source": [
        "# allocations = [\"AOK\", \"AOM\", \"AOR\", \"AOA\"]\n",
        "# tickers = tickers + allocations"
      ],
      "id": "41f5b09a",
      "execution_count": null,
      "outputs": []
    },
    {
      "cell_type": "markdown",
      "metadata": {},
      "source": [
        "# Optimization\n"
      ],
      "id": "ebaf08cc"
    },
    {
      "cell_type": "code",
      "metadata": {},
      "source": [
        "import json\n",
        "import cvxpy as cp"
      ],
      "id": "0e29ae62",
      "execution_count": null,
      "outputs": []
    },
    {
      "cell_type": "code",
      "metadata": {},
      "source": [
        "def min_rss_optim(x, y):\n",
        "    \n",
        "    w = cp.Variable(x.shape[1])\n",
        "    \n",
        "    objective = cp.Minimize(cp.sum_squares(y - x @ w))\n",
        "    \n",
        "    constraints = [cp.sum(w) == 1, w >= 0, w <= 1]\n",
        "    \n",
        "    problem = cp.Problem(objective, constraints)\n",
        "    problem.solve()\n",
        "    \n",
        "    return w.value"
      ],
      "id": "2e18b035",
      "execution_count": null,
      "outputs": []
    },
    {
      "cell_type": "code",
      "metadata": {},
      "source": [
        "exec(open(\"../helper-prices.py\").read())"
      ],
      "id": "ca313b74",
      "execution_count": null,
      "outputs": []
    },
    {
      "cell_type": "code",
      "metadata": {},
      "source": [
        "overlap_df = returns_df.rolling(scale[\"overlap\"], min_periods = 1).mean()\n",
        "\n",
        "# overlap_df = overlap_df.dropna()\n",
        "overlap_x_df = overlap_df[factors]\n",
        "overlap_y_df = overlap_df[tickers]\n",
        "# overlap_z_df = overlap_df[allocations]"
      ],
      "id": "94aab3d7",
      "execution_count": null,
      "outputs": []
    },
    {
      "cell_type": "code",
      "metadata": {},
      "source": [
        "def pnl(x):\n",
        "  return np.nanprod(1 + x) - 1"
      ],
      "id": "af4a3533",
      "execution_count": null,
      "outputs": []
    },
    {
      "cell_type": "code",
      "metadata": {},
      "source": [
        "performance_df = returns_df.rolling(width, min_periods = 1).apply(pnl, raw = False)"
      ],
      "id": "faee2fc0",
      "execution_count": null,
      "outputs": []
    },
    {
      "cell_type": "code",
      "metadata": {},
      "source": [
        "n_rows = overlap_df.shape[0]\n",
        "result_ls = []\n",
        "index_ls = []\n",
        "\n",
        "# for i in range(width - 1, n_rows):\n",
        "for i in range(n_rows - 1, n_rows):\n",
        "  \n",
        "  idx = range(max(i - width + 1, 0), i + 1)\n",
        "  x_subset = overlap_x_df.iloc[idx]\n",
        "  y_subset = overlap_y_df.iloc[idx]\n",
        "  params_ls = []\n",
        "  tickers_ls = []\n",
        "  performance_ls = []\n",
        "  \n",
        "  # for j in [ticker for ticker in tickers if ticker not in allocations]:\n",
        "  for j in tickers:\n",
        "    \n",
        "    idx = ~x_subset.isna().any(axis = 1) & ~y_subset[j].isna()\n",
        "    x_complete = x_subset.loc[idx]\n",
        "    y_complete = y_subset.loc[idx, j]\n",
        "    \n",
        "    if (x_complete.shape[0] > 0) and (y_complete.size > 0):\n",
        "        \n",
        "      params = min_rss_optim(x_complete.values, y_complete.values)\n",
        "      params_ls.append(params)\n",
        "      \n",
        "      tickers_ls.append(j)\n",
        "      \n",
        "      performance_ls.append(performance_df[j].iloc[i])\n",
        "\n",
        "  if params_ls:\n",
        "    \n",
        "    result = pd.DataFrame(params_ls, index = tickers_ls)\n",
        "    result[\"performance\"] = performance_ls\n",
        "    \n",
        "    result_ls.append(result)\n",
        "    index_ls.append(overlap_x_df.index[i])"
      ],
      "id": "963140c3",
      "execution_count": null,
      "outputs": []
    },
    {
      "cell_type": "code",
      "metadata": {},
      "source": [
        "# json.dump([x.to_dict() for x in result_ls], open(\"result_ls.json\", \"w\"))\n",
        "# json.dump([x.isoformat() for x in index_ls], open(\"index_ls.json\", \"w\"))"
      ],
      "id": "46abdc7c",
      "execution_count": null,
      "outputs": []
    },
    {
      "cell_type": "markdown",
      "metadata": {},
      "source": [
        "# Performance\n"
      ],
      "id": "7639f0de"
    },
    {
      "cell_type": "code",
      "metadata": {},
      "source": [
        "# result_ls = [pd.DataFrame(x) for x in json.load(open(\"result_ls.json\", \"r\"))]\n",
        "# index_ls = [pd.Timestamp(x) for x in json.load(open(\"index_ls.json\", \"r\"))]"
      ],
      "id": "e9e92aaf",
      "execution_count": null,
      "outputs": []
    },
    {
      "cell_type": "code",
      "metadata": {},
      "source": [
        "def quantile_cut(x):\n",
        "  \n",
        "  result = pd.qcut(\n",
        "    -x,\n",
        "    q = [0, 0.25, 0.5, 0.75, 1],\n",
        "    labels = [\"Q1\", \"Q2\", \"Q3\", \"Q4\"]\n",
        "  )\n",
        "  \n",
        "  return result"
      ],
      "id": "9607e12e",
      "execution_count": null,
      "outputs": []
    },
    {
      "cell_type": "code",
      "metadata": {},
      "source": [
        "n_rows = len(result_ls)\n",
        "score_ls = []\n",
        "\n",
        "for i in range(n_rows):\n",
        "  \n",
        "  score_df = pd.DataFrame(result_ls[i])\n",
        "  score_df.columns = factors + [\"performance\"]\n",
        "  \n",
        "  score_df[\"date\"] = index_ls[i]\n",
        "  score_df[\"quantile\"] = quantile_cut(score_df[\"performance\"])\n",
        "  \n",
        "  score = score_df.groupby([\"date\", \"quantile\"]).agg(\n",
        "    weight = (factors[0], \"mean\"),\n",
        "    performance = (\"performance\", \"mean\")\n",
        "  ).reset_index()\n",
        "  \n",
        "  overall = pd.DataFrame({\n",
        "    \"date\": [index_ls[i]],\n",
        "    \"quantile\": [\"Overall\"],\n",
        "    \"weight\": [score_df[factors[0]].mean()],\n",
        "    \"performance\": [score_df[\"performance\"].mean()]\n",
        "  })\n",
        "  \n",
        "  score = pd.concat([score, overall], ignore_index = True)\n",
        "  \n",
        "  score_ls.append(score)"
      ],
      "id": "eecad600",
      "execution_count": null,
      "outputs": []
    },
    {
      "cell_type": "code",
      "metadata": {},
      "source": [
        "score_df = pd.concat(score_ls, ignore_index = True)\n",
        "print(score_df)"
      ],
      "id": "02dc8274",
      "execution_count": null,
      "outputs": []
    },
    {
      "cell_type": "code",
      "metadata": {},
      "source": [
        "# score_df.to_json(\"score_df.json\", date_format = \"iso\")"
      ],
      "id": "36fda370",
      "execution_count": null,
      "outputs": []
    }
  ],
  "metadata": {
    "kernelspec": {
      "name": "python3",
      "language": "python",
      "display_name": "Python 3 (ipykernel)"
    }
  },
  "nbformat": 4,
  "nbformat_minor": 5
}