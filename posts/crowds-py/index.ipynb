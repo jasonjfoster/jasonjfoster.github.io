{
  "cells": [
    {
      "cell_type": "raw",
      "metadata": {},
      "source": [
        "---\n",
        "title: \"Crowds\"\n",
        "author: \"[Jason Foster](mailto:jason.j.foster@gmail.com)\"\n",
        "date: last-modified\n",
        "categories:\n",
        "  - analysis\n",
        "  - finance\n",
        "  - python\n",
        "draft: true\n",
        "editor: \n",
        "  mode: source\n",
        "---"
      ],
      "id": "ce7b8b43"
    },
    {
      "cell_type": "code",
      "metadata": {},
      "source": [
        "factors_r = [\"SP500\"] # \"SP500\" does not contain dividends\n",
        "factors_d = [\"DTB3\"]"
      ],
      "id": "f5221637",
      "execution_count": null,
      "outputs": []
    },
    {
      "cell_type": "code",
      "metadata": {},
      "source": [
        "exec(open(\"../helper-levels.py\").read())"
      ],
      "id": "61c89d2c",
      "execution_count": null,
      "outputs": []
    },
    {
      "cell_type": "code",
      "metadata": {},
      "source": [
        "width = 20 * 3"
      ],
      "id": "fa761cce",
      "execution_count": null,
      "outputs": []
    },
    {
      "cell_type": "markdown",
      "metadata": {},
      "source": [
        "# Parse web\n"
      ],
      "id": "7da2a84f"
    },
    {
      "cell_type": "code",
      "metadata": {},
      "source": [
        "import yfscreen as yfs"
      ],
      "id": "1dd111df",
      "execution_count": null,
      "outputs": []
    },
    {
      "cell_type": "code",
      "metadata": {},
      "source": [
        "filters = [\"eq\", [\"categoryname\", \"Tactical Allocation\"]]\n",
        "query = yfs.create_query(filters)\n",
        "payload = yfs.create_payload(\"mutualfund\", query, 250)\n",
        "data = yfs.get_data(payload)"
      ],
      "id": "d88fada1",
      "execution_count": null,
      "outputs": []
    },
    {
      "cell_type": "code",
      "metadata": {},
      "source": [
        "sorted_df = data.sort_values(by = [\"netAssets.raw\", \"firstTradeDateMilliseconds\"])\n",
        "tickers = sorted_df.loc[~data[\"netAssets.raw\"].duplicated(), \"symbol\"].tolist()"
      ],
      "id": "f06515f0",
      "execution_count": null,
      "outputs": []
    },
    {
      "cell_type": "code",
      "metadata": {},
      "source": [
        "# allocations = [\"AOK\", \"AOM\", \"AOR\", \"AOA\"]\n",
        "# tickers = tickers + allocations"
      ],
      "id": "8e567e51",
      "execution_count": null,
      "outputs": []
    },
    {
      "cell_type": "markdown",
      "metadata": {},
      "source": [
        "# Optimization\n"
      ],
      "id": "f73861b2"
    },
    {
      "cell_type": "code",
      "metadata": {},
      "source": [
        "import json\n",
        "import cvxpy as cp"
      ],
      "id": "1395fdae",
      "execution_count": null,
      "outputs": []
    },
    {
      "cell_type": "code",
      "metadata": {},
      "source": [
        "def min_rss_optim(x, y):\n",
        "    \n",
        "    w = cp.Variable(x.shape[1])\n",
        "    \n",
        "    objective = cp.Minimize(cp.sum_squares(y - x @ w))\n",
        "    \n",
        "    constraints = [cp.sum(w) == 1, w >= 0, w <= 1]\n",
        "    \n",
        "    problem = cp.Problem(objective, constraints)\n",
        "    problem.solve()\n",
        "    \n",
        "    return w.value"
      ],
      "id": "9582593f",
      "execution_count": null,
      "outputs": []
    },
    {
      "cell_type": "code",
      "metadata": {},
      "source": [
        "exec(open(\"../helper-prices.py\").read())"
      ],
      "id": "f286a1be",
      "execution_count": null,
      "outputs": []
    },
    {
      "cell_type": "code",
      "metadata": {},
      "source": [
        "overlap_df = returns_df.rolling(scale[\"overlap\"],min_periods = 1).mean()\n",
        "\n",
        "# overlap_df = overlap_df.dropna()\n",
        "overlap_x_df = overlap_df[factors]\n",
        "overlap_y_df = overlap_df[tickers]\n",
        "# overlap_z_df = overlap_df[allocations]"
      ],
      "id": "838abfa0",
      "execution_count": null,
      "outputs": []
    },
    {
      "cell_type": "code",
      "metadata": {},
      "source": [
        "def pnl(x):\n",
        "  return np.nanprod(1 + x) - 1"
      ],
      "id": "0765bde3",
      "execution_count": null,
      "outputs": []
    },
    {
      "cell_type": "code",
      "metadata": {},
      "source": [
        "performance_df = returns_df.rolling(width, min_periods = 1).apply(pnl, raw = False)"
      ],
      "id": "86fb9d80",
      "execution_count": null,
      "outputs": []
    },
    {
      "cell_type": "code",
      "metadata": {},
      "source": [
        "n_rows = overlap_df.shape[0]\n",
        "result_ls = []\n",
        "index_ls = []\n",
        "\n",
        "# for i in range(width - 1, n_rows):\n",
        "for i in range(n_rows - 1, n_rows):\n",
        "  \n",
        "  idx = range(max(i - width + 1, 0), i + 1)\n",
        "  x_subset = overlap_x_df.iloc[idx]\n",
        "  y_subset = overlap_y_df.iloc[idx]\n",
        "  params_ls = []\n",
        "  tickers_ls = []\n",
        "  performance_ls = []\n",
        "  \n",
        "  # for j in [ticker for ticker in tickers if ticker not in allocations]:\n",
        "  for j in tickers:\n",
        "    \n",
        "    idx = ~x_subset.isna().any(axis = 1) & ~y_subset[j].isna()\n",
        "    x_complete = x_subset.loc[idx]\n",
        "    y_complete = y_subset.loc[idx, j]\n",
        "    \n",
        "    if (x_complete.shape[0] > 0) and (y_complete.size > 0):\n",
        "        \n",
        "      params = min_rss_optim(x_complete.values, y_complete.values)\n",
        "      params_ls.append(params)\n",
        "      \n",
        "      tickers_ls.append(j)\n",
        "      \n",
        "      performance_ls.append(performance_df[j].iloc[i])\n",
        "\n",
        "  if params_ls:\n",
        "    \n",
        "    result = pd.DataFrame(params_ls, index = tickers_ls)\n",
        "    result[\"performance\"] = performance_ls\n",
        "    \n",
        "    result_ls.append(result)\n",
        "    index_ls.append(overlap_x_df.index[i])"
      ],
      "id": "2bfecee4",
      "execution_count": null,
      "outputs": []
    },
    {
      "cell_type": "code",
      "metadata": {},
      "source": [
        "# json.dump([x.to_dict() for x in result_ls], open(\"result_ls.json\", \"w\"))\n",
        "# json.dump([x.isoformat() for x in index_ls], open(\"index_ls.json\", \"w\"))"
      ],
      "id": "f83d48ce",
      "execution_count": null,
      "outputs": []
    },
    {
      "cell_type": "markdown",
      "metadata": {},
      "source": [
        "# Performance\n"
      ],
      "id": "36852371"
    },
    {
      "cell_type": "code",
      "metadata": {},
      "source": [
        "# result_ls = [pd.DataFrame(x) for x in json.load(open(\"result_ls.json\", \"r\"))]\n",
        "# index_ls = [pd.Timestamp(x) for x in json.load(open(\"index_ls.json\", \"r\"))]"
      ],
      "id": "64a94b97",
      "execution_count": null,
      "outputs": []
    },
    {
      "cell_type": "code",
      "metadata": {},
      "source": [
        "def quantile_cut(x):\n",
        "  \n",
        "  result = pd.qcut(\n",
        "    -x,\n",
        "    q = [0, 0.25, 0.5, 0.75, 1],\n",
        "    labels = [\"Q1\", \"Q2\", \"Q3\", \"Q4\"]\n",
        "  )\n",
        "  \n",
        "  return result"
      ],
      "id": "d9ca874b",
      "execution_count": null,
      "outputs": []
    },
    {
      "cell_type": "code",
      "metadata": {},
      "source": [
        "n_rows = len(result_ls)\n",
        "score_ls = []\n",
        "\n",
        "for i in range(n_rows):\n",
        "  \n",
        "  score_df = pd.DataFrame(result_ls[i])\n",
        "  score_df.columns = factors + [\"performance\"]\n",
        "  \n",
        "  score_df[\"date\"] = index_ls[i]\n",
        "  score_df[\"quantile\"] = quantile_cut(score_df[\"performance\"])\n",
        "  \n",
        "  score = score_df.groupby([\"date\", \"quantile\"]).agg(\n",
        "    weight = (factors[0], \"mean\"),\n",
        "    performance = (\"performance\", \"mean\")\n",
        "  ).reset_index()\n",
        "  \n",
        "  overall = pd.DataFrame({\n",
        "    \"date\": [index_ls[i]],\n",
        "    \"quantile\": [\"Overall\"],\n",
        "    \"weight\": [score_df[factors[0]].mean()],\n",
        "    \"performance\": [score_df[\"performance\"].mean()]\n",
        "  })\n",
        "  \n",
        "  score = pd.concat([score, overall], ignore_index = True)\n",
        "  \n",
        "  score_ls.append(score)"
      ],
      "id": "01478425",
      "execution_count": null,
      "outputs": []
    },
    {
      "cell_type": "code",
      "metadata": {},
      "source": [
        "score_df = pd.concat(score_ls, ignore_index = True)\n",
        "print(score_df)"
      ],
      "id": "055a59a3",
      "execution_count": null,
      "outputs": []
    },
    {
      "cell_type": "code",
      "metadata": {},
      "source": [
        "# score_df.to_json(\"score_df.json\", date_format = \"iso\")"
      ],
      "id": "f36b5eaf",
      "execution_count": null,
      "outputs": []
    }
  ],
  "metadata": {
    "kernelspec": {
      "name": "python3",
      "language": "python",
      "display_name": "Python 3 (ipykernel)"
    }
  },
  "nbformat": 4,
  "nbformat_minor": 5
}