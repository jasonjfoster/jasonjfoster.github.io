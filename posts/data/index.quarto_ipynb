{
  "cells": [
    {
      "cell_type": "markdown",
      "metadata": {},
      "source": [
        "---\n",
        "title: \"Data\"\n",
        "author: \"[Jason Foster](mailto:jason.j.foster@gmail.com)\"\n",
        "date: last-modified\n",
        "categories:\n",
        "  - analysis\n",
        "  - finance\n",
        "  - python\n",
        "draft: true\n",
        "editor: \n",
        "  mode: source\n",
        "---"
      ],
      "id": "a8583f5b"
    },
    {
      "cell_type": "code",
      "metadata": {},
      "source": [
        "# !pip install --index-url=https://blpapi.bloomberg.com/repository/releases/python/simple/ blpapi\n",
        "import blpapi\n",
        "import pandas as pd"
      ],
      "id": "b60c63a3",
      "execution_count": null,
      "outputs": []
    },
    {
      "cell_type": "markdown",
      "metadata": {},
      "source": [
        "# Static query\n",
        "\n",
        "-   <https://www.bloomberg.com/professional/support/api-library/>\n",
        "-   Page 80: <https://bloomberg.github.io/blpapi-docs/>"
      ],
      "id": "dfc768ed"
    },
    {
      "cell_type": "code",
      "metadata": {},
      "source": [
        "def create_session(host = \"localhost\", port = 8194):\n",
        "  \n",
        "  options = blpapi.SessionOptions()\n",
        "  options.setServerHost(host)\n",
        "  options.setServerPort(port)\n",
        "  \n",
        "  session = blpapi.Session(options)\n",
        "  session.start()\n",
        "  session.openService(\"//blp/refdata\")\n",
        "  \n",
        "  return session"
      ],
      "id": "ee06edb3",
      "execution_count": null,
      "outputs": []
    },
    {
      "cell_type": "code",
      "metadata": {},
      "source": [
        "def process_response(event, fields, start_date = None, end_date = None):\n",
        "  \n",
        "  data_ls = []\n",
        "  \n",
        "  for msg in event:\n",
        "    \n",
        "    security_data = msg.getElement(\"securityData\")\n",
        "    \n",
        "    if (start_date):\n",
        "      \n",
        "      security = security_data.getElementAsString(\"security\")\n",
        "      field_data = security_data.getElement(\"fieldData\")\n",
        "      \n",
        "      for x in field_data:\n",
        "        \n",
        "        record = {\"security\": security, \"date\": x.getElementAsDatetime(\"date\")}\n",
        "        \n",
        "        for field in fields:\n",
        "          try:\n",
        "            record[field] = x.getElement(field).getValue()\n",
        "          except:\n",
        "            pass\n",
        "        \n",
        "        data_ls.append(record)\n",
        "        \n",
        "    else:\n",
        "      \n",
        "      for x in security_data.values():\n",
        "        \n",
        "        security = x.getElementAsString(\"security\")\n",
        "        field_data = x.getElement(\"fieldData\")\n",
        "        record = {\"security\": security}\n",
        "        \n",
        "        for field in fields:\n",
        "          try:\n",
        "            record[field] = field_data.getElement(field).getValue()\n",
        "          except:\n",
        "            pass\n",
        "        \n",
        "        data_ls.append(record)\n",
        "    \n",
        "  return pd.DataFrame(data_ls)"
      ],
      "id": "b585f1b3",
      "execution_count": null,
      "outputs": []
    },
    {
      "cell_type": "markdown",
      "metadata": {},
      "source": [
        "# Data point"
      ],
      "id": "a822e417"
    },
    {
      "cell_type": "code",
      "metadata": {},
      "source": [
        "def bdp(securities, fields):\n",
        "  \n",
        "  if isinstance(securities, str):\n",
        "    securities = [securities]\n",
        "  \n",
        "  if isinstance(fields, str):\n",
        "    fields = [fields]\n",
        "  \n",
        "  session = create_session()\n",
        "  service = session.getService(\"//blp/refdata\")\n",
        "  request = service.createRequest(\"ReferenceDataRequest\")\n",
        "  \n",
        "  for security in securities:\n",
        "    request.append(\"securities\", security)\n",
        "  \n",
        "  for field in fields:\n",
        "    request.append(\"fields\", field)\n",
        "    \n",
        "  session.sendRequest(request)\n",
        "  \n",
        "  status = True\n",
        "  result = pd.DataFrame()\n",
        "  \n",
        "  while status:\n",
        "    \n",
        "    event = session.nextEvent()\n",
        "    \n",
        "    if (event.eventType() in [blpapi.Event.RESPONSE, blpapi.Event.PARTIAL_RESPONSE]):\n",
        "      result = pd.concat([result, process_response(event, fields)], ignore_index = True)\n",
        "      \n",
        "    if (event.eventType() == blpapi.Event.RESPONSE):\n",
        "      status = False\n",
        "  \n",
        "  session.stop()\n",
        "  \n",
        "  return result"
      ],
      "id": "b313ff9f",
      "execution_count": null,
      "outputs": []
    },
    {
      "cell_type": "code",
      "metadata": {},
      "source": [
        "securities = [\"IBM US Equity\", \"GOOG US Equity\", \"MSFT US Equity\", \"BA US Equity\"]\n",
        "fields = [\"MARKET_SECTOR_DES\", \"GICS_SECTOR_NAME\", \"ID_CUSIP\", \"PX_LAST\"]"
      ],
      "id": "d3325c2d",
      "execution_count": null,
      "outputs": []
    },
    {
      "cell_type": "code",
      "metadata": {},
      "source": [
        "#| eval: false\n",
        "bdp_df = bdp(securities, fields)\n",
        "print(bdp_df)"
      ],
      "id": "b462bccc",
      "execution_count": null,
      "outputs": []
    },
    {
      "cell_type": "markdown",
      "metadata": {},
      "source": [
        "# Data history"
      ],
      "id": "2ef15803"
    },
    {
      "cell_type": "code",
      "metadata": {},
      "source": [
        "def bdh(securities, fields, start_date, end_date = None):\n",
        "  \n",
        "  if isinstance(securities, str):\n",
        "    securities = [securities]\n",
        "  \n",
        "  if isinstance(fields, str):\n",
        "    fields = [fields]\n",
        "  \n",
        "  session = create_session()\n",
        "  service = session.getService(\"//blp/refdata\")\n",
        "  request = service.createRequest(\"HistoricalDataRequest\")\n",
        "  \n",
        "  for security in securities:\n",
        "    request.append(\"securities\", security)\n",
        "    \n",
        "  for field in fields:\n",
        "    request.append(\"fields\", field)\n",
        "\n",
        "  request.set(\"startDate\", start_date)\n",
        "  \n",
        "  if (end_date):\n",
        "    request.set(\"endDate\", end_date)\n",
        "    \n",
        "  request.set(\"nonTradingDayFillOption\", \"ALL_CALENDAR_DAYS\") # \"NON_TRADING_WEEKDAYS\", \"ALL_CALENDAR_DAYS\", \"ACTIVE_DAYS_ONLY\"\n",
        "  request.set(\"nonTradingDayFillMethod\", \"NIL_VALUE\") # \"PREVIOUS_VALUE\", \"NIL_VALUE\" \n",
        "  \n",
        "  session.sendRequest(request)\n",
        "  \n",
        "  status = True\n",
        "  result = pd.DataFrame()\n",
        "  \n",
        "  while status:\n",
        "    \n",
        "    event = session.nextEvent()\n",
        "    \n",
        "    if (event.eventType() in [blpapi.Event.RESPONSE, blpapi.Event.PARTIAL_RESPONSE]):\n",
        "      result = pd.concat([result, process_response(event, fields, start_date, end_date)], ignore_index = True)\n",
        "    \n",
        "    if (event.eventType() == blpapi.Event.RESPONSE):\n",
        "      status = False\n",
        "      \n",
        "  session.stop()\n",
        "  \n",
        "  return result"
      ],
      "id": "3e06d8f6",
      "execution_count": null,
      "outputs": []
    },
    {
      "cell_type": "code",
      "metadata": {},
      "source": [
        "fields = [\"PX_LAST\", \"PX_BID\", \"PX_ASK\"]\n",
        "start_date = \"20231201\"\n",
        "end_date = \"20231205\""
      ],
      "id": "a1283879",
      "execution_count": null,
      "outputs": []
    },
    {
      "cell_type": "code",
      "metadata": {},
      "source": [
        "#| eval: false\n",
        "bdh_df = bdh(securities, fields, start_date, end_date)\n",
        "print(bdh_df)"
      ],
      "id": "8f282a70",
      "execution_count": null,
      "outputs": []
    }
  ],
  "metadata": {
    "kernelspec": {
      "name": "python3",
      "language": "python",
      "display_name": "Python 3 (ipykernel)",
      "path": "C:\\Users\\jason\\OneDrive\\Documents\\.virtualenvs\\r-reticulate\\share\\jupyter\\kernels\\python3"
    }
  },
  "nbformat": 4,
  "nbformat_minor": 5
}